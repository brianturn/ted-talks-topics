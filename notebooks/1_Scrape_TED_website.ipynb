{
 "cells": [
  {
   "cell_type": "code",
   "execution_count": 673,
   "metadata": {
    "collapsed": true
   },
   "outputs": [],
   "source": [
    "import requests\n",
    "from bs4 import BeautifulSoup\n",
    "import calendar\n",
    "import re\n",
    "import pandas as pd\n",
    "import pickle\n",
    "import string\n",
    "from dateutil import parser\n",
    "import time\n",
    "import sys"
   ]
  },
  {
   "cell_type": "code",
   "execution_count": 597,
   "metadata": {
    "collapsed": true
   },
   "outputs": [],
   "source": [
    "prefix = 'https://www.ted.com/talks?page='"
   ]
  },
  {
   "cell_type": "code",
   "execution_count": 689,
   "metadata": {
    "collapsed": true
   },
   "outputs": [],
   "source": [
    "def get_soup(url):\n",
    "    response = requests.get(url)\n",
    "    status_c = response.status_code\n",
    "    print (status_c)\n",
    "    if status_c == 429:\n",
    "        sys.stdout.flush()\n",
    "        time.sleep(10)\n",
    "    else:\n",
    "        sys.stdout.flush()\n",
    "        time.sleep(5)\n",
    "        page = response.text\n",
    "        return BeautifulSoup(page, \"lxml\")"
   ]
  },
  {
   "cell_type": "code",
   "execution_count": 550,
   "metadata": {
    "collapsed": false
   },
   "outputs": [],
   "source": [
    "def get_speaker_urls(soup):\n",
    "    tags = soup.find_all(class_=\" ga-link\")[::2]\n",
    "    anchors = []\n",
    "    for item in tags:\n",
    "        anchor = item.get('href')\n",
    "        anchors.append(anchor)\n",
    "    return anchors"
   ]
  },
  {
   "cell_type": "code",
   "execution_count": 566,
   "metadata": {
    "collapsed": false
   },
   "outputs": [],
   "source": [
    "speaker_urls = []\n",
    "for i in range(1, 70):\n",
    "    start_url = prefix + str(i)\n",
    "    soup = get_soup(start_url)\n",
    "    urls = get_speaker_urls(soup)\n",
    "    speaker_urls.extend(urls)\n",
    "    time.sleep(5)"
   ]
  },
  {
   "cell_type": "code",
   "execution_count": 586,
   "metadata": {
    "collapsed": false
   },
   "outputs": [
    {
     "data": {
      "text/plain": [
       "['/talks/wendy_troxel_why_school_should_start_later_for_teens',\n",
       " '/talks/ted_halstead_a_climate_solution_where_all_sides_can_win']"
      ]
     },
     "execution_count": 586,
     "metadata": {},
     "output_type": "execute_result"
    }
   ],
   "source": [
    "speaker_urls[:2]"
   ]
  },
  {
   "cell_type": "code",
   "execution_count": 624,
   "metadata": {
    "collapsed": false
   },
   "outputs": [],
   "source": [
    "def get_speaker(soup):\n",
    "    try:\n",
    "        name = soup.find(class_=\"player-hero__speaker__content\").text.replace(':', '')\n",
    "        return name.strip()\n",
    "    except:\n",
    "        return ''"
   ]
  },
  {
   "cell_type": "code",
   "execution_count": 625,
   "metadata": {
    "collapsed": true
   },
   "outputs": [],
   "source": [
    "def get_title(soup):\n",
    "    try:\n",
    "        title = soup.find(class_=\"player-hero__title__content\").text\n",
    "        return title.strip()\n",
    "    except:\n",
    "        return ''"
   ]
  },
  {
   "cell_type": "code",
   "execution_count": 626,
   "metadata": {
    "collapsed": true
   },
   "outputs": [],
   "source": [
    "def get_seconds(soup):\n",
    "    try:\n",
    "        timestr = str(soup.find(class_=\"player-hero__meta\").find_all('span')[0].text)\n",
    "        ftr = [60,1]\n",
    "        seconds = sum([a*b for a,b in zip(ftr, [int(i) for i in timestr.split(\":\")])])\n",
    "        return seconds\n",
    "    except:\n",
    "        return ''"
   ]
  },
  {
   "cell_type": "code",
   "execution_count": 627,
   "metadata": {
    "collapsed": false
   },
   "outputs": [],
   "source": [
    "def get_date(soup):\n",
    "    try:\n",
    "        datelst = soup.find(class_=\"player-hero__meta\").find_all('span')[1].text.split()\n",
    "        month = datelst[1]\n",
    "        month_dict = {v: k for k,v in enumerate(calendar.month_abbr)}\n",
    "        year = int(datelst[2])\n",
    "        return month_dict[month], year\n",
    "    except:\n",
    "        return ''"
   ]
  },
  {
   "cell_type": "code",
   "execution_count": 628,
   "metadata": {
    "collapsed": false
   },
   "outputs": [],
   "source": [
    "def view_count(soup):\n",
    "    try:\n",
    "        viewstr = soup.find(\"div\", {\"id\": \"sharing-count\"}).find_all('span')[0].text\n",
    "        views = int(viewstr.replace(',', ''))\n",
    "        return views\n",
    "    except:\n",
    "        return ''"
   ]
  },
  {
   "cell_type": "code",
   "execution_count": 629,
   "metadata": {
    "collapsed": true
   },
   "outputs": [],
   "source": [
    "def get_transcript(soup):\n",
    "    try:\n",
    "        fragments = soup.find_all(class_=\"talk-transcript__fragment\")\n",
    "        text = []\n",
    "        for i in fragments:\n",
    "            t = i.get_text().strip().replace('\\n',' ')\n",
    "            if '(Laughter)' not in t and '(Applause)' not in t:\n",
    "                text.append(t)\n",
    "        return text\n",
    "    except:\n",
    "        return ''"
   ]
  },
  {
   "cell_type": "code",
   "execution_count": 687,
   "metadata": {
    "collapsed": true
   },
   "outputs": [],
   "source": [
    "def get_speaker_info(soup):\n",
    "    try:\n",
    "        info = soup.find(class_=\"talk-speaker__description\").text.strip()\n",
    "        return info\n",
    "    except:\n",
    "        return ''\n",
    "        "
   ]
  },
  {
   "cell_type": "code",
   "execution_count": 1,
   "metadata": {
    "collapsed": false
   },
   "outputs": [],
   "source": [
    "# database = []\n",
    "\n",
    "# for url in speaker_urls:\n",
    "#     soup = get_soup('https://www.ted.com' + url)\n",
    "#     db_dict = {}\n",
    "#     db_dict['speaker'] = get_speaker(soup)\n",
    "#     db_dict['url'] = url\n",
    "#     db_dict['title'] = get_title(soup)\n",
    "#     db_dict['info'] = get_speaker_info(soup)\n",
    "#     db_dict['seconds'] = get_seconds(soup)\n",
    "#     db_dict['date'] = list(get_date(soup))\n",
    "#     db_dict['views'] = view_count(soup)\n",
    "#     soup = get_soup('https://www.ted.com' + url + '/transcript?language=en')\n",
    "#     db_dict['text'] = get_transcript(soup)\n",
    "#     database.append(db_dict)"
   ]
  }
 ],
 "metadata": {
  "kernelspec": {
   "display_name": "Python 3",
   "language": "python",
   "name": "python3"
  },
  "language_info": {
   "codemirror_mode": {
    "name": "ipython",
    "version": 3
   },
   "file_extension": ".py",
   "mimetype": "text/x-python",
   "name": "python",
   "nbconvert_exporter": "python",
   "pygments_lexer": "ipython3",
   "version": "3.6.0"
  }
 },
 "nbformat": 4,
 "nbformat_minor": 2
}
